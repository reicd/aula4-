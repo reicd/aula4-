{
  "nbformat": 4,
  "nbformat_minor": 0,
  "metadata": {
    "colab": {
      "provenance": [],
      "authorship_tag": "ABX9TyPNRgKryYdCBSu5ATiMVrbv",
      "include_colab_link": true
    },
    "kernelspec": {
      "name": "python3",
      "display_name": "Python 3"
    },
    "language_info": {
      "name": "python"
    }
  },
  "cells": [
    {
      "cell_type": "markdown",
      "metadata": {
        "id": "view-in-github",
        "colab_type": "text"
      },
      "source": [
        "<a href=\"https://colab.research.google.com/github/reicd/aula4-/blob/main/pojetoboot.ipynb\" target=\"_parent\"><img src=\"https://colab.research.google.com/assets/colab-badge.svg\" alt=\"Open In Colab\"/></a>"
      ]
    },
    {
      "cell_type": "markdown",
      "source": [
        "#Início do projeto"
      ],
      "metadata": {
        "id": "VI1EwNG9AIDD"
      }
    },
    {
      "cell_type": "code",
      "execution_count": 4,
      "metadata": {
        "id": "AXBGs7OFADzT"
      },
      "outputs": [],
      "source": [
        "!pip install -q -U google-generativeai"
      ]
    },
    {
      "cell_type": "code",
      "source": [
        "# Import the Python SDK\n",
        "import google.generativeai as genai\n",
        "# Used to securely store your API key\n",
        "from google.colab import userdata\n",
        "api_key = userdata.get(\"SECRET_KEY\")\n",
        "genai.configure(api_key=api_key )"
      ],
      "metadata": {
        "id": "FOTOmHlAKGiC"
      },
      "execution_count": 41,
      "outputs": []
    },
    {
      "cell_type": "markdown",
      "source": [
        "##Listar os modelos disponíveis"
      ],
      "metadata": {
        "id": "4EcXs0A-Lj4I"
      }
    },
    {
      "cell_type": "code",
      "source": [
        "for m in genai.list_models():\n",
        "  if \"generateContent\" in m.supported_generation_methods:\n",
        "    print(m.name)"
      ],
      "metadata": {
        "colab": {
          "base_uri": "https://localhost:8080/",
          "height": 139
        },
        "id": "lDaDep-JLvQB",
        "outputId": "80bd7491-71cf-45c1-c2e4-a69e9b24cb73"
      },
      "execution_count": 9,
      "outputs": [
        {
          "output_type": "stream",
          "name": "stdout",
          "text": [
            "models/gemini-1.0-pro\n",
            "models/gemini-1.0-pro-001\n",
            "models/gemini-1.0-pro-latest\n",
            "models/gemini-1.0-pro-vision-latest\n",
            "models/gemini-1.5-pro-latest\n",
            "models/gemini-pro\n",
            "models/gemini-pro-vision\n"
          ]
        }
      ]
    },
    {
      "cell_type": "code",
      "source": [
        "generation_config = {\n",
        "    #\"candidates\":1,\n",
        "    \"temperature\":0.5,\n",
        "\n",
        "\n",
        "\n",
        "}"
      ],
      "metadata": {
        "id": "nXP1bPtuOyyp"
      },
      "execution_count": 24,
      "outputs": []
    },
    {
      "cell_type": "code",
      "source": [
        "safety_settings={\n",
        "  \"Harassment\":\"block_none\",\n",
        "  \"Hate\": \"block_none\",\n",
        "  \"Sexual\":\"block_none\",\n",
        "  \"Dangerous\":\"block_none\",\n",
        "}"
      ],
      "metadata": {
        "id": "2KrSXsGHQPmU"
      },
      "execution_count": 20,
      "outputs": []
    },
    {
      "cell_type": "markdown",
      "source": [
        "##Iniciando o modelo"
      ],
      "metadata": {
        "id": "5EhhAw0rS3Vx"
      }
    },
    {
      "cell_type": "code",
      "source": [
        "from os import sched_setaffinity\n",
        "model = genai.GenerativeModel(model_name=\"gemini-1.0-pro\",\n",
        "                              generation_config=generation_config,\n",
        "                              safety_settings=safety_settings)"
      ],
      "metadata": {
        "id": "LLbe-lXOS8Db"
      },
      "execution_count": 25,
      "outputs": []
    },
    {
      "cell_type": "code",
      "source": [
        "response = model.generate_content(\"Qual o valor da vida?\")\n",
        "print(response.text)"
      ],
      "metadata": {
        "colab": {
          "base_uri": "https://localhost:8080/",
          "height": 573
        },
        "id": "GNndDkroU9Q9",
        "outputId": "7aead2c9-6ff9-4abe-b31b-2cb0badd8381"
      },
      "execution_count": 26,
      "outputs": [
        {
          "output_type": "stream",
          "name": "stdout",
          "text": [
            "O valor da vida é um conceito complexo e subjetivo que varia dependendo de perspectivas culturais, filosóficas e pessoais. No entanto, existem alguns princípios gerais que podem ser considerados:\n",
            "\n",
            "**Valor Intrínseco:**\n",
            "\n",
            "* Algumas pessoas acreditam que a vida tem um valor intrínseco, independentemente de quaisquer fatores externos.\n",
            "* Isso significa que cada vida humana é valiosa por si só, simplesmente porque existe.\n",
            "\n",
            "**Valor Instrumental:**\n",
            "\n",
            "* Outros acreditam que a vida tem valor instrumental, pois permite que os indivíduos experimentem prazer, significado e contribuam para a sociedade.\n",
            "* O valor da vida está, portanto, ligado à sua capacidade de proporcionar bem-estar e realização.\n",
            "\n",
            "**Valor Relativo:**\n",
            "\n",
            "* O valor da vida também pode ser relativo, dependendo das circunstâncias e do contexto.\n",
            "* Por exemplo, a vida de uma pessoa jovem e saudável pode ser considerada mais valiosa do que a de uma pessoa idosa e doente.\n",
            "\n",
            "**Valor Social:**\n",
            "\n",
            "* As sociedades atribuem valor à vida com base em normas e valores culturais.\n",
            "* Isso pode influenciar as políticas de saúde, leis e práticas sociais relacionadas à preservação e proteção da vida.\n",
            "\n",
            "**Valor Pessoal:**\n",
            "\n",
            "* Em última análise, o valor da vida é uma questão pessoal.\n",
            "* Cada indivíduo atribui valor à sua própria vida e às vidas dos outros com base em suas crenças, experiências e valores.\n",
            "\n",
            "**Considerações Adicionais:**\n",
            "\n",
            "* O valor da vida pode ser afetado por fatores como idade, saúde, qualidade de vida e potencial de contribuição para a sociedade.\n",
            "* O conceito de valor da vida está intimamente ligado a questões éticas, como eutanásia, aborto e alocação de recursos de saúde.\n",
            "* O valor da vida é um tema contínuo de debate e reflexão filosófica e social.\n"
          ]
        }
      ]
    },
    {
      "cell_type": "code",
      "source": [
        "chat = model.start_chat(history=[])"
      ],
      "metadata": {
        "id": "nujl3ZqKX5vP"
      },
      "execution_count": 27,
      "outputs": []
    },
    {
      "cell_type": "code",
      "source": [
        "prompt= input(\"Me faça uma pergunta?\")\n",
        "while prompt !=\"fim\":\n",
        "  response = chat.send_message(prompt)\n",
        "  print(\"Resposta:\", response.text, \"\\n\" )\n",
        "  prompt= input(\"Outra pergunta?\")"
      ],
      "metadata": {
        "colab": {
          "base_uri": "https://localhost:8080/",
          "height": 86
        },
        "id": "VvkMgIAyYlsZ",
        "outputId": "83738400-fa46-4a82-c143-f5e4caf9f2d1"
      },
      "execution_count": 33,
      "outputs": [
        {
          "name": "stdout",
          "output_type": "stream",
          "text": [
            "Me faça uma pergunta?Qual a capita do brasil\n",
            "Resposta: Brasília \n",
            "\n",
            "Outra pergunta?fim\n"
          ]
        }
      ]
    },
    {
      "cell_type": "code",
      "source": [
        "chat.history\n"
      ],
      "metadata": {
        "colab": {
          "base_uri": "https://localhost:8080/"
        },
        "id": "DzadbxGfhrx3",
        "outputId": "fe2f76b8-b054-4d37-cfcb-a28c4e04b2af"
      },
      "execution_count": 34,
      "outputs": [
        {
          "output_type": "execute_result",
          "data": {
            "text/plain": [
              "[parts {\n",
              "   text: \"qual o hor\\303\\241rio?\"\n",
              " }\n",
              " role: \"user\",\n",
              " parts {\n",
              "   text: \"N\\303\\243o tenho acesso a informa\\303\\247\\303\\265es em tempo real, portanto, n\\303\\243o posso fornecer a hora atual. Recomendo verificar a hora em um rel\\303\\263gio, telefone ou dispositivo semelhante.\"\n",
              " }\n",
              " role: \"model\",\n",
              " parts {\n",
              "   text: \"qual o hor\\303\\241rio?\"\n",
              " }\n",
              " role: \"user\",\n",
              " parts {\n",
              "   text: \"Como modelo de linguagem de IA, n\\303\\243o tenho acesso a informa\\303\\247\\303\\265es em tempo real, incluindo a hora atual. Recomendo verificar a hora em um rel\\303\\263gio, telefone ou dispositivo semelhante.\"\n",
              " }\n",
              " role: \"model\",\n",
              " parts {\n",
              "   text: \"qual o hor\\303\\241rio?\"\n",
              " }\n",
              " role: \"user\",\n",
              " parts {\n",
              "   text: \"Como modelo de linguagem de IA, n\\303\\243o tenho acesso a informa\\303\\247\\303\\265es em tempo real, incluindo a hora atual. Recomendo verificar a hora em um rel\\303\\263gio, telefone ou dispositivo semelhante.\"\n",
              " }\n",
              " role: \"model\",\n",
              " parts {\n",
              "   text: \"qual o hor\\303\\241rio?\"\n",
              " }\n",
              " role: \"user\",\n",
              " parts {\n",
              "   text: \"Como modelo de linguagem de IA, n\\303\\243o tenho acesso a informa\\303\\247\\303\\265es em tempo real, incluindo a hora atual. Recomendo verificar a hora em um rel\\303\\263gio, telefone ou dispositivo semelhante.\"\n",
              " }\n",
              " role: \"model\",\n",
              " parts {\n",
              "   text: \"qual o hor\\303\\241rio?\"\n",
              " }\n",
              " role: \"user\",\n",
              " parts {\n",
              "   text: \"Como modelo de linguagem de IA, n\\303\\243o tenho acesso a informa\\303\\247\\303\\265es em tempo real, incluindo a hora atual. Recomendo verificar a hora em um rel\\303\\263gio, telefone ou dispositivo semelhante.\"\n",
              " }\n",
              " role: \"model\",\n",
              " parts {\n",
              "   text: \"qual o hor\\303\\241rio?\"\n",
              " }\n",
              " role: \"user\",\n",
              " parts {\n",
              "   text: \"Como modelo de linguagem de IA, n\\303\\243o tenho acesso a informa\\303\\247\\303\\265es em tempo real, incluindo a hora atual. Recomendo verificar a hora em um rel\\303\\263gio, telefone ou dispositivo semelhante.\"\n",
              " }\n",
              " role: \"model\",\n",
              " parts {\n",
              "   text: \"qual o hor\\303\\241rio?\"\n",
              " }\n",
              " role: \"user\",\n",
              " parts {\n",
              "   text: \"Como modelo de linguagem de IA, n\\303\\243o tenho acesso a informa\\303\\247\\303\\265es em tempo real, incluindo a hora atual. Recomendo verificar a hora em um rel\\303\\263gio, telefone ou dispositivo semelhante.\"\n",
              " }\n",
              " role: \"model\",\n",
              " parts {\n",
              "   text: \"Que horas o sol nasceu hoje?\"\n",
              " }\n",
              " role: \"user\",\n",
              " parts {\n",
              "   text: \"Como modelo de linguagem de IA, n\\303\\243o tenho acesso a informa\\303\\247\\303\\265es em tempo real, incluindo a hora do nascer do sol de hoje. Recomendo verificar a hora do nascer do sol em um aplicativo de previs\\303\\243o do tempo, site ou jornal local.\"\n",
              " }\n",
              " role: \"model\",\n",
              " parts {\n",
              "   text: \"Qual o Pa\\303\\255s do Sol nascente?\"\n",
              " }\n",
              " role: \"user\",\n",
              " parts {\n",
              "   text: \"Jap\\303\\243o\"\n",
              " }\n",
              " role: \"model\",\n",
              " parts {\n",
              "   text: \"Qual a capital do Brasil?\"\n",
              " }\n",
              " role: \"user\",\n",
              " parts {\n",
              "   text: \"Bras\\303\\255lia\"\n",
              " }\n",
              " role: \"model\",\n",
              " parts {\n",
              "   text: \"Comida T\\303\\255pica do Pa\\303\\255s?\"\n",
              " }\n",
              " role: \"user\",\n",
              " parts {\n",
              "   text: \"Feijoada\"\n",
              " }\n",
              " role: \"model\",\n",
              " parts {\n",
              "   text: \"Qual a capita do brasil\"\n",
              " }\n",
              " role: \"user\",\n",
              " parts {\n",
              "   text: \"Bras\\303\\255lia\"\n",
              " }\n",
              " role: \"model\"]"
            ]
          },
          "metadata": {},
          "execution_count": 34
        }
      ]
    },
    {
      "cell_type": "code",
      "source": [
        "#Importando a visualização\n",
        "import pathlib\n",
        "import textwrap\n",
        "\n",
        "import google.generativeai as genai\n",
        "\n",
        "from IPython.display import display\n",
        "from IPython.display import Markdown\n",
        "\n",
        "\n",
        "def to_markdown(text):\n",
        "  text = text.replace('•', '  *')\n",
        "  return Markdown(textwrap.indent(text, '> ', predicate=lambda _: True))\n",
        "#Importando o histórico\n",
        "for message in chat.history:\n",
        "display(to_markdown(f'**{message.role}**: {message.parts[0].text}'))\n"
      ],
      "metadata": {
        "colab": {
          "base_uri": "https://localhost:8080/",
          "height": 106
        },
        "id": "CnBTbcRhiVad",
        "outputId": "b297a978-e49f-4bc4-bca5-fb181e4cddbf"
      },
      "execution_count": 39,
      "outputs": [
        {
          "output_type": "error",
          "ename": "IndentationError",
          "evalue": "expected an indented block after 'for' statement on line 15 (<ipython-input-39-226910959560>, line 16)",
          "traceback": [
            "\u001b[0;36m  File \u001b[0;32m\"<ipython-input-39-226910959560>\"\u001b[0;36m, line \u001b[0;32m16\u001b[0m\n\u001b[0;31m    display(to_markdown(f'**{message.role}**: {message.parts[0].text}'))\u001b[0m\n\u001b[0m    ^\u001b[0m\n\u001b[0;31mIndentationError\u001b[0m\u001b[0;31m:\u001b[0m expected an indented block after 'for' statement on line 15\n"
          ]
        }
      ]
    }
  ]
}